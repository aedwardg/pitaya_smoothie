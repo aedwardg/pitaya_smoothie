{
 "metadata": {
  "language_info": {
   "codemirror_mode": {
    "name": "ipython",
    "version": 3
   },
   "file_extension": ".py",
   "mimetype": "text/x-python",
   "name": "python",
   "nbconvert_exporter": "python",
   "pygments_lexer": "ipython3",
   "version": "3.8.5-final"
  },
  "orig_nbformat": 2,
  "kernelspec": {
   "name": "python3",
   "display_name": "Python 3",
   "language": "python"
  }
 },
 "nbformat": 4,
 "nbformat_minor": 2,
 "cells": [
  {
   "cell_type": "code",
   "execution_count": 1,
   "metadata": {},
   "outputs": [],
   "source": [
    "import json\n",
    "import re\n",
    "import seaborn as sns\n",
    "import matplotlib as mpl\n",
    "from itertools import cycle"
   ]
  },
  {
   "cell_type": "code",
   "execution_count": 2,
   "metadata": {},
   "outputs": [],
   "source": [
    "path = \"themes/Pitaya smoothie-color-theme.json\""
   ]
  },
  {
   "cell_type": "code",
   "execution_count": 3,
   "metadata": {},
   "outputs": [],
   "source": [
    "# read file strip\n",
    "json_file = open(path, 'r')\n",
    "json_file =json_file.read().splitlines()\n",
    "json_ready=[x.strip() for x in json_file]"
   ]
  },
  {
   "cell_type": "code",
   "execution_count": 4,
   "metadata": {},
   "outputs": [
    {
     "output_type": "execute_result",
     "data": {
      "text/plain": [
       "'#181036'"
      ]
     },
     "metadata": {},
     "execution_count": 4
    }
   ],
   "source": [
    "# testing the regex match\n",
    "regex = re.compile(r'\\#[A-Za-z0-9]+', re.VERBOSE)\n",
    "matchy = regex.search(json_ready[3])\n",
    "matchy.group(0)"
   ]
  },
  {
   "cell_type": "code",
   "execution_count": 5,
   "metadata": {
    "tags": []
   },
   "outputs": [],
   "source": [
    "def get_hex_colours(json_theme):\n",
    "    \"\"\"Extract the hex colours using regex search\"\"\"\n",
    "    regex = re.compile(r'\\#[A-Za-z0-9]+', re.VERBOSE)\n",
    "    colours = []\n",
    "    for i in json_theme:\n",
    "        matchy = regex.search(i)\n",
    "        if matchy:\n",
    "            colours.append(matchy.group(0))\n",
    "    return colours"
   ]
  },
  {
   "cell_type": "code",
   "execution_count": 6,
   "metadata": {},
   "outputs": [],
   "source": [
    "colours = get_hex_colours(json_ready)\n",
    "unique_colours = list(set(colours))"
   ]
  },
  {
   "cell_type": "code",
   "execution_count": 7,
   "metadata": {},
   "outputs": [],
   "source": [
    "# remove unfortunate matches\n",
    "unique_colours.remove('#editor')\n",
    "unique_colours.remove('#lists')"
   ]
  },
  {
   "cell_type": "code",
   "execution_count": 8,
   "metadata": {},
   "outputs": [
    {
     "output_type": "stream",
     "name": "stdout",
     "text": [
      "Solid palette has 91 colours\nTransparent palette has 29 colours\n"
     ]
    }
   ],
   "source": [
    "solid = []\n",
    "transparent = []\n",
    "for i in unique_colours:\n",
    "    if len(i) == 7:\n",
    "        solid.append(i)\n",
    "    else:\n",
    "        transparent.append(i)\n",
    "solid.sort()\n",
    "transparent.sort()\n",
    "\n",
    "print(f\"Solid palette has {len(solid)} colours\")\n",
    "print(f\"Transparent palette has {len(transparent)} colours\")"
   ]
  },
  {
   "cell_type": "code",
   "execution_count": 9,
   "metadata": {},
   "outputs": [
    {
     "output_type": "execute_result",
     "data": {
      "text/plain": [
       "[(0.0, 0.0, 0.0),\n",
       " (0.00392156862745098, 0.043137254901960784, 0.0784313725490196),\n",
       " (0.07450980392156863, 0.047058823529411764, 0.1607843137254902),\n",
       " (0.08627450980392157, 0.08627450980392157, 0.2),\n",
       " (0.09411764705882353, 0.06274509803921569, 0.21176470588235294),\n",
       " (0.09411764705882353, 0.7529411764705882, 0.7686274509803922),\n",
       " (0.09411764705882353, 0.7568627450980392, 0.7686274509803922),\n",
       " (0.10980392156862745, 0.10196078431372549, 0.23137254901960785),\n",
       " (0.11764705882352941, 0.10980392156862745, 0.24705882352941178),\n",
       " (0.11764705882352941, 0.11764705882352941, 0.24705882352941178),\n",
       " (0.12156862745098039, 0.12156862745098039, 0.2549019607843137),\n",
       " (0.12156862745098039, 0.0784313725490196, 0.27058823529411763),\n",
       " (0.12549019607843137, 0.10196078431372549, 0.2196078431372549),\n",
       " (0.12941176470588237, 0.08235294117647059, 0.2784313725490196),\n",
       " (0.13333333333333333, 0.13333333333333333, 0.26666666666666666),\n",
       " (0.1450980392156863, 0.09803921568627451, 0.32941176470588235),\n",
       " (0.1450980392156863, 0.1450980392156863, 0.28627450980392155),\n",
       " (0.15294117647058825, 0.14901960784313725, 0.30196078431372547),\n",
       " (0.16470588235294117, 0.10588235294117647, 0.3607843137254902),\n",
       " (0.17647058823529413, 0.16862745098039217, 0.3333333333333333),\n",
       " (0.19215686274509805, 0.9019607843137255, 0.9019607843137255),\n",
       " (0.25098039215686274, 0.23529411764705882, 0.5254901960784314),\n",
       " (0.27058823529411763, 0.9607843137254902, 0.8117647058823529),\n",
       " (0.2823529411764706, 0.30980392156862746, 0.49019607843137253),\n",
       " (0.28627450980392155, 0.27450980392156865, 0.5215686274509804),\n",
       " (0.34901960784313724, 0.35294117647058826, 0.5411764705882353),\n",
       " (0.3607843137254902, 0.3607843137254902, 0.3803921568627451),\n",
       " (0.36470588235294116, 0.21568627450980393, 0.9411764705882353),\n",
       " (0.3607843137254902, 0.6549019607843137, 0.8941176470588236),\n",
       " (0.4, 0.9137254901960784, 0.9254901960784314),\n",
       " (0.42745098039215684, 0.9686274509803922, 0.8509803921568627),\n",
       " (0.47058823529411764, 0.6196078431372549, 0.9725490196078431),\n",
       " (0.4745098039215686, 0.596078431372549, 0.9490196078431372),\n",
       " (0.47843137254901963, 0.4627450980392157, 0.7607843137254902),\n",
       " (0.49019607843137253, 0.4, 0.7294117647058823),\n",
       " (0.49411764705882355, 0.47843137254901963, 0.6666666666666666),\n",
       " (0.49411764705882355, 0.6549019607843137, 0.9529411764705882),\n",
       " (0.49019607843137253, 0.4745098039215686, 0.8196078431372549),\n",
       " (0.49411764705882355, 0.8862745098039215, 0.9529411764705882),\n",
       " (0.49411764705882355, 0.9529411764705882, 0.792156862745098),\n",
       " (0.5019607843137255, 0.9882352941176471, 1.0),\n",
       " (0.5098039215686274, 0.6666666666666666, 1.0),\n",
       " (0.5098039215686274, 0.6941176470588235, 1.0),\n",
       " (0.5098039215686274, 0.6941176470588235, 1.0),\n",
       " (0.5568627450980392, 0.6745098039215687, 0.8901960784313725),\n",
       " (0.5803921568627451, 0.5686274509803921, 0.807843137254902),\n",
       " (0.5843137254901961, 0.6745098039215687, 0.9450980392156862),\n",
       " (0.611764705882353, 0.9450980392156862, 0.9607843137254902),\n",
       " (0.6196078431372549, 1.0, 1.0),\n",
       " (0.6196078431372549, 0.3843137254901961, 1.0),\n",
       " (0.6470588235294118, 0.4235294117647059, 0.9607843137254902),\n",
       " (0.6470588235294118, 0.6, 0.9137254901960784),\n",
       " (0.6901960784313725, 0.47843137254901963, 0.9882352941176471),\n",
       " (0.7019607843137254, 0.3843137254901961, 1.0),\n",
       " (0.7058823529411765, 0.6784313725490196, 0.792156862745098),\n",
       " (0.7607843137254902, 0.9568627450980393, 0.8862745098039215),\n",
       " (0.7686274509803922, 0.6352941176470588, 0.9607843137254902),\n",
       " (0.807843137254902, 0.7725490196078432, 1.0),\n",
       " (0.8392156862745098, 0.8705882352941177, 0.9215686274509803),\n",
       " (0.9372549019607843, 0.9372549019607843, 0.9372549019607843),\n",
       " (0.9490196078431372, 0.3803921568627451, 0.5882352941176471),\n",
       " (0.9529411764705882, 0.792156862745098, 0.49411764705882355),\n",
       " (0.9686274509803922, 0.9686274509803922, 0.9686274509803922),\n",
       " (0.9803921568627451, 0.8156862745098039, 0.0),\n",
       " (0.9921568627450981, 0.11372549019607843, 0.3254901960784314),\n",
       " (0.996078431372549, 0.996078431372549, 1.0),\n",
       " (1.0, 0.43137254901960786, 0.611764705882353),\n",
       " (1.0, 0.43137254901960786, 0.611764705882353),\n",
       " (1.0, 0.5882352941176471, 0.7176470588235294),\n",
       " (1.0, 0.8941176470588236, 0.4196078431372549),\n",
       " (1.0, 1.0, 1.0),\n",
       " (0.6313725490196078, 0.9686274509803922, 0.9725490196078431),\n",
       " (0.6470588235294118, 0.4235294117647059, 0.9607843137254902),\n",
       " (0.6901960784313725, 0.47843137254901963, 0.9882352941176471),\n",
       " (0.7254901960784313, 0.5686274509803921, 0.9450980392156862),\n",
       " (0.7764705882352941, 0.8470588235294118, 0.9803921568627451),\n",
       " (0.7803921568627451, 0.5725490196078431, 0.9176470588235294),\n",
       " (0.8274509803921568, 0.25882352941176473, 0.24313725490196078),\n",
       " (0.8392156862745098, 0.8705882352941177, 0.9215686274509803),\n",
       " (0.8509803921568627, 0.9607843137254902, 0.8666666666666667),\n",
       " (0.9372549019607843, 0.9372549019607843, 0.9372549019607843),\n",
       " (0.9529411764705882, 0.5647058823529412, 0.49411764705882355),\n",
       " (0.9529411764705882, 0.792156862745098, 0.49411764705882355),\n",
       " (0.9607843137254902, 0.8196078431372549, 0.19215686274509805),\n",
       " (0.9686274509803922, 0.29411764705882354, 0.45098039215686275),\n",
       " (0.9725490196078431, 0.3686274509803922, 0.6235294117647059),\n",
       " (0.9882352941176471, 0.9019607843137255, 0.5294117647058824),\n",
       " (0.9921568627450981, 0.21568627450980393, 0.4666666666666667),\n",
       " (0.996078431372549, 0.996078431372549, 1.0),\n",
       " (1.0, 0.43137254901960786, 0.611764705882353),\n",
       " (1.0, 0.9294117647058824, 0.6196078431372549)]"
      ],
      "text/html": "<svg  width=\"5005\" height=\"55\"><rect x=\"0\" y=\"0\" width=\"55\" height=\"55\" style=\"fill:#000000;stroke-width:2;stroke:rgb(255,255,255)\"/><rect x=\"55\" y=\"0\" width=\"55\" height=\"55\" style=\"fill:#010b14;stroke-width:2;stroke:rgb(255,255,255)\"/><rect x=\"110\" y=\"0\" width=\"55\" height=\"55\" style=\"fill:#130c29;stroke-width:2;stroke:rgb(255,255,255)\"/><rect x=\"165\" y=\"0\" width=\"55\" height=\"55\" style=\"fill:#161633;stroke-width:2;stroke:rgb(255,255,255)\"/><rect x=\"220\" y=\"0\" width=\"55\" height=\"55\" style=\"fill:#181036;stroke-width:2;stroke:rgb(255,255,255)\"/><rect x=\"275\" y=\"0\" width=\"55\" height=\"55\" style=\"fill:#18c0c4;stroke-width:2;stroke:rgb(255,255,255)\"/><rect x=\"330\" y=\"0\" width=\"55\" height=\"55\" style=\"fill:#18c1c4;stroke-width:2;stroke:rgb(255,255,255)\"/><rect x=\"385\" y=\"0\" width=\"55\" height=\"55\" style=\"fill:#1c1a3b;stroke-width:2;stroke:rgb(255,255,255)\"/><rect x=\"440\" y=\"0\" width=\"55\" height=\"55\" style=\"fill:#1e1c3f;stroke-width:2;stroke:rgb(255,255,255)\"/><rect x=\"495\" y=\"0\" width=\"55\" height=\"55\" style=\"fill:#1e1e3f;stroke-width:2;stroke:rgb(255,255,255)\"/><rect x=\"550\" y=\"0\" width=\"55\" height=\"55\" style=\"fill:#1f1f41;stroke-width:2;stroke:rgb(255,255,255)\"/><rect x=\"605\" y=\"0\" width=\"55\" height=\"55\" style=\"fill:#1f1445;stroke-width:2;stroke:rgb(255,255,255)\"/><rect x=\"660\" y=\"0\" width=\"55\" height=\"55\" style=\"fill:#201a38;stroke-width:2;stroke:rgb(255,255,255)\"/><rect x=\"715\" y=\"0\" width=\"55\" height=\"55\" style=\"fill:#211547;stroke-width:2;stroke:rgb(255,255,255)\"/><rect x=\"770\" y=\"0\" width=\"55\" height=\"55\" style=\"fill:#222244;stroke-width:2;stroke:rgb(255,255,255)\"/><rect x=\"825\" y=\"0\" width=\"55\" height=\"55\" style=\"fill:#251954;stroke-width:2;stroke:rgb(255,255,255)\"/><rect x=\"880\" y=\"0\" width=\"55\" height=\"55\" style=\"fill:#252549;stroke-width:2;stroke:rgb(255,255,255)\"/><rect x=\"935\" y=\"0\" width=\"55\" height=\"55\" style=\"fill:#27264d;stroke-width:2;stroke:rgb(255,255,255)\"/><rect x=\"990\" y=\"0\" width=\"55\" height=\"55\" style=\"fill:#2a1b5c;stroke-width:2;stroke:rgb(255,255,255)\"/><rect x=\"1045\" y=\"0\" width=\"55\" height=\"55\" style=\"fill:#2d2b55;stroke-width:2;stroke:rgb(255,255,255)\"/><rect x=\"1100\" y=\"0\" width=\"55\" height=\"55\" style=\"fill:#31e6e6;stroke-width:2;stroke:rgb(255,255,255)\"/><rect x=\"1155\" y=\"0\" width=\"55\" height=\"55\" style=\"fill:#403c86;stroke-width:2;stroke:rgb(255,255,255)\"/><rect x=\"1210\" y=\"0\" width=\"55\" height=\"55\" style=\"fill:#45f5cf;stroke-width:2;stroke:rgb(255,255,255)\"/><rect x=\"1265\" y=\"0\" width=\"55\" height=\"55\" style=\"fill:#484f7d;stroke-width:2;stroke:rgb(255,255,255)\"/><rect x=\"1320\" y=\"0\" width=\"55\" height=\"55\" style=\"fill:#494685;stroke-width:2;stroke:rgb(255,255,255)\"/><rect x=\"1375\" y=\"0\" width=\"55\" height=\"55\" style=\"fill:#595a8a;stroke-width:2;stroke:rgb(255,255,255)\"/><rect x=\"1430\" y=\"0\" width=\"55\" height=\"55\" style=\"fill:#5c5c61;stroke-width:2;stroke:rgb(255,255,255)\"/><rect x=\"1485\" y=\"0\" width=\"55\" height=\"55\" style=\"fill:#5d37f0;stroke-width:2;stroke:rgb(255,255,255)\"/><rect x=\"1540\" y=\"0\" width=\"55\" height=\"55\" style=\"fill:#5ca7e4;stroke-width:2;stroke:rgb(255,255,255)\"/><rect x=\"1595\" y=\"0\" width=\"55\" height=\"55\" style=\"fill:#66e9ec;stroke-width:2;stroke:rgb(255,255,255)\"/><rect x=\"1650\" y=\"0\" width=\"55\" height=\"55\" style=\"fill:#6df7d9;stroke-width:2;stroke:rgb(255,255,255)\"/><rect x=\"1705\" y=\"0\" width=\"55\" height=\"55\" style=\"fill:#789ef8;stroke-width:2;stroke:rgb(255,255,255)\"/><rect x=\"1760\" y=\"0\" width=\"55\" height=\"55\" style=\"fill:#7998f2;stroke-width:2;stroke:rgb(255,255,255)\"/><rect x=\"1815\" y=\"0\" width=\"55\" height=\"55\" style=\"fill:#7a76c2;stroke-width:2;stroke:rgb(255,255,255)\"/><rect x=\"1870\" y=\"0\" width=\"55\" height=\"55\" style=\"fill:#7d66ba;stroke-width:2;stroke:rgb(255,255,255)\"/><rect x=\"1925\" y=\"0\" width=\"55\" height=\"55\" style=\"fill:#7e7aaa;stroke-width:2;stroke:rgb(255,255,255)\"/><rect x=\"1980\" y=\"0\" width=\"55\" height=\"55\" style=\"fill:#7ea7f3;stroke-width:2;stroke:rgb(255,255,255)\"/><rect x=\"2035\" y=\"0\" width=\"55\" height=\"55\" style=\"fill:#7d79d1;stroke-width:2;stroke:rgb(255,255,255)\"/><rect x=\"2090\" y=\"0\" width=\"55\" height=\"55\" style=\"fill:#7ee2f3;stroke-width:2;stroke:rgb(255,255,255)\"/><rect x=\"2145\" y=\"0\" width=\"55\" height=\"55\" style=\"fill:#7ef3ca;stroke-width:2;stroke:rgb(255,255,255)\"/><rect x=\"2200\" y=\"0\" width=\"55\" height=\"55\" style=\"fill:#80fcff;stroke-width:2;stroke:rgb(255,255,255)\"/><rect x=\"2255\" y=\"0\" width=\"55\" height=\"55\" style=\"fill:#82aaff;stroke-width:2;stroke:rgb(255,255,255)\"/><rect x=\"2310\" y=\"0\" width=\"55\" height=\"55\" style=\"fill:#82b1ff;stroke-width:2;stroke:rgb(255,255,255)\"/><rect x=\"2365\" y=\"0\" width=\"55\" height=\"55\" style=\"fill:#82b1ff;stroke-width:2;stroke:rgb(255,255,255)\"/><rect x=\"2420\" y=\"0\" width=\"55\" height=\"55\" style=\"fill:#8eace3;stroke-width:2;stroke:rgb(255,255,255)\"/><rect x=\"2475\" y=\"0\" width=\"55\" height=\"55\" style=\"fill:#9491ce;stroke-width:2;stroke:rgb(255,255,255)\"/><rect x=\"2530\" y=\"0\" width=\"55\" height=\"55\" style=\"fill:#95acf1;stroke-width:2;stroke:rgb(255,255,255)\"/><rect x=\"2585\" y=\"0\" width=\"55\" height=\"55\" style=\"fill:#9cf1f5;stroke-width:2;stroke:rgb(255,255,255)\"/><rect x=\"2640\" y=\"0\" width=\"55\" height=\"55\" style=\"fill:#9effff;stroke-width:2;stroke:rgb(255,255,255)\"/><rect x=\"2695\" y=\"0\" width=\"55\" height=\"55\" style=\"fill:#9e62ff;stroke-width:2;stroke:rgb(255,255,255)\"/><rect x=\"2750\" y=\"0\" width=\"55\" height=\"55\" style=\"fill:#a56cf5;stroke-width:2;stroke:rgb(255,255,255)\"/><rect x=\"2805\" y=\"0\" width=\"55\" height=\"55\" style=\"fill:#a599e9;stroke-width:2;stroke:rgb(255,255,255)\"/><rect x=\"2860\" y=\"0\" width=\"55\" height=\"55\" style=\"fill:#b07afc;stroke-width:2;stroke:rgb(255,255,255)\"/><rect x=\"2915\" y=\"0\" width=\"55\" height=\"55\" style=\"fill:#b362ff;stroke-width:2;stroke:rgb(255,255,255)\"/><rect x=\"2970\" y=\"0\" width=\"55\" height=\"55\" style=\"fill:#b4adca;stroke-width:2;stroke:rgb(255,255,255)\"/><rect x=\"3025\" y=\"0\" width=\"55\" height=\"55\" style=\"fill:#c2f4e2;stroke-width:2;stroke:rgb(255,255,255)\"/><rect x=\"3080\" y=\"0\" width=\"55\" height=\"55\" style=\"fill:#c4a2f5;stroke-width:2;stroke:rgb(255,255,255)\"/><rect x=\"3135\" y=\"0\" width=\"55\" height=\"55\" style=\"fill:#cec5ff;stroke-width:2;stroke:rgb(255,255,255)\"/><rect x=\"3190\" y=\"0\" width=\"55\" height=\"55\" style=\"fill:#d6deeb;stroke-width:2;stroke:rgb(255,255,255)\"/><rect x=\"3245\" y=\"0\" width=\"55\" height=\"55\" style=\"fill:#efefef;stroke-width:2;stroke:rgb(255,255,255)\"/><rect x=\"3300\" y=\"0\" width=\"55\" height=\"55\" style=\"fill:#f26196;stroke-width:2;stroke:rgb(255,255,255)\"/><rect x=\"3355\" y=\"0\" width=\"55\" height=\"55\" style=\"fill:#f3ca7e;stroke-width:2;stroke:rgb(255,255,255)\"/><rect x=\"3410\" y=\"0\" width=\"55\" height=\"55\" style=\"fill:#f7f7f7;stroke-width:2;stroke:rgb(255,255,255)\"/><rect x=\"3465\" y=\"0\" width=\"55\" height=\"55\" style=\"fill:#fad000;stroke-width:2;stroke:rgb(255,255,255)\"/><rect x=\"3520\" y=\"0\" width=\"55\" height=\"55\" style=\"fill:#fd1d53;stroke-width:2;stroke:rgb(255,255,255)\"/><rect x=\"3575\" y=\"0\" width=\"55\" height=\"55\" style=\"fill:#fefeff;stroke-width:2;stroke:rgb(255,255,255)\"/><rect x=\"3630\" y=\"0\" width=\"55\" height=\"55\" style=\"fill:#ff6e9c;stroke-width:2;stroke:rgb(255,255,255)\"/><rect x=\"3685\" y=\"0\" width=\"55\" height=\"55\" style=\"fill:#ff6e9c;stroke-width:2;stroke:rgb(255,255,255)\"/><rect x=\"3740\" y=\"0\" width=\"55\" height=\"55\" style=\"fill:#ff96b7;stroke-width:2;stroke:rgb(255,255,255)\"/><rect x=\"3795\" y=\"0\" width=\"55\" height=\"55\" style=\"fill:#ffe46b;stroke-width:2;stroke:rgb(255,255,255)\"/><rect x=\"3850\" y=\"0\" width=\"55\" height=\"55\" style=\"fill:#ffffff;stroke-width:2;stroke:rgb(255,255,255)\"/><rect x=\"3905\" y=\"0\" width=\"55\" height=\"55\" style=\"fill:#a1f7f8;stroke-width:2;stroke:rgb(255,255,255)\"/><rect x=\"3960\" y=\"0\" width=\"55\" height=\"55\" style=\"fill:#a56cf5;stroke-width:2;stroke:rgb(255,255,255)\"/><rect x=\"4015\" y=\"0\" width=\"55\" height=\"55\" style=\"fill:#b07afc;stroke-width:2;stroke:rgb(255,255,255)\"/><rect x=\"4070\" y=\"0\" width=\"55\" height=\"55\" style=\"fill:#b991f1;stroke-width:2;stroke:rgb(255,255,255)\"/><rect x=\"4125\" y=\"0\" width=\"55\" height=\"55\" style=\"fill:#c6d8fa;stroke-width:2;stroke:rgb(255,255,255)\"/><rect x=\"4180\" y=\"0\" width=\"55\" height=\"55\" style=\"fill:#c792ea;stroke-width:2;stroke:rgb(255,255,255)\"/><rect x=\"4235\" y=\"0\" width=\"55\" height=\"55\" style=\"fill:#d3423e;stroke-width:2;stroke:rgb(255,255,255)\"/><rect x=\"4290\" y=\"0\" width=\"55\" height=\"55\" style=\"fill:#d6deeb;stroke-width:2;stroke:rgb(255,255,255)\"/><rect x=\"4345\" y=\"0\" width=\"55\" height=\"55\" style=\"fill:#d9f5dd;stroke-width:2;stroke:rgb(255,255,255)\"/><rect x=\"4400\" y=\"0\" width=\"55\" height=\"55\" style=\"fill:#efefef;stroke-width:2;stroke:rgb(255,255,255)\"/><rect x=\"4455\" y=\"0\" width=\"55\" height=\"55\" style=\"fill:#f3907e;stroke-width:2;stroke:rgb(255,255,255)\"/><rect x=\"4510\" y=\"0\" width=\"55\" height=\"55\" style=\"fill:#f3ca7e;stroke-width:2;stroke:rgb(255,255,255)\"/><rect x=\"4565\" y=\"0\" width=\"55\" height=\"55\" style=\"fill:#f5d131;stroke-width:2;stroke:rgb(255,255,255)\"/><rect x=\"4620\" y=\"0\" width=\"55\" height=\"55\" style=\"fill:#f74b73;stroke-width:2;stroke:rgb(255,255,255)\"/><rect x=\"4675\" y=\"0\" width=\"55\" height=\"55\" style=\"fill:#f85e9f;stroke-width:2;stroke:rgb(255,255,255)\"/><rect x=\"4730\" y=\"0\" width=\"55\" height=\"55\" style=\"fill:#fce687;stroke-width:2;stroke:rgb(255,255,255)\"/><rect x=\"4785\" y=\"0\" width=\"55\" height=\"55\" style=\"fill:#fd3777;stroke-width:2;stroke:rgb(255,255,255)\"/><rect x=\"4840\" y=\"0\" width=\"55\" height=\"55\" style=\"fill:#fefeff;stroke-width:2;stroke:rgb(255,255,255)\"/><rect x=\"4895\" y=\"0\" width=\"55\" height=\"55\" style=\"fill:#ff6e9c;stroke-width:2;stroke:rgb(255,255,255)\"/><rect x=\"4950\" y=\"0\" width=\"55\" height=\"55\" style=\"fill:#ffed9e;stroke-width:2;stroke:rgb(255,255,255)\"/></svg>"
     },
     "metadata": {},
     "execution_count": 9
    }
   ],
   "source": [
    "solid_palette = sns.set_palette(solid)\n",
    "sns.color_palette()"
   ]
  },
  {
   "cell_type": "code",
   "execution_count": 10,
   "metadata": {},
   "outputs": [],
   "source": [
    "solid_rgb = list(map(mpl.colors.colorConverter.to_rgb, solid))\n",
    "solid_rgb.sort()\n",
    "transparent_rgb = list(map(mpl.colors.colorConverter.to_rgb, transparent))\n",
    "transparent_rgb.sort()"
   ]
  },
  {
   "cell_type": "code",
   "execution_count": 11,
   "metadata": {},
   "outputs": [],
   "source": [
    "trans_palette = sns.set_palette(transparent)"
   ]
  },
  {
   "cell_type": "code",
   "execution_count": 12,
   "metadata": {},
   "outputs": [
    {
     "output_type": "execute_result",
     "data": {
      "text/plain": [
       "[(0.09411764705882353, 0.7568627450980392, 0.7686274509803922),\n",
       " (0.09411764705882353, 0.7568627450980392, 0.7686274509803922),\n",
       " (0.09411764705882353, 0.7568627450980392, 0.7686274509803922),\n",
       " (0.13333333333333333, 0.13333333333333333, 0.26666666666666666),\n",
       " (0.1450980392156863, 0.1450980392156863, 0.28627450980392155),\n",
       " (0.17647058823529413, 0.06274509803921569, 0.37254901960784315),\n",
       " (0.19215686274509805, 0.06274509803921569, 0.5490196078431373),\n",
       " (0.20392156862745098, 0.11764705882352941, 0.5137254901960784),\n",
       " (0.3411764705882353, 0.32941176470588235, 0.5725490196078431),\n",
       " (0.4117647058823529, 0.2627450980392157, 1.0),\n",
       " (0.47058823529411764, 0.6196078431372549, 0.9725490196078431),\n",
       " (0.49411764705882355, 0.27450980392156865, 0.8745098039215686),\n",
       " (0.5254901960784314, 0.23137254901960785, 1.0),\n",
       " (0.5254901960784314, 0.23137254901960785, 1.0),\n",
       " (0.6470588235294118, 0.6, 0.9137254901960784),\n",
       " (0.6470588235294118, 0.6, 0.9137254901960784),\n",
       " (0.6470588235294118, 0.6, 0.9137254901960784),\n",
       " (0.6470588235294118, 0.6, 0.9137254901960784),\n",
       " (0.6784313725490196, 0.4392156862745098, 0.9882352941176471),\n",
       " (1.0, 1.0, 1.0),\n",
       " (1.0, 1.0, 1.0),\n",
       " (0.6470588235294118, 0.6, 0.9137254901960784),\n",
       " (0.6470588235294118, 0.6, 0.9137254901960784),\n",
       " (0.9137254901960784, 0.6, 0.6666666666666666),\n",
       " (0.9490196078431372, 0.5529411764705883, 0.3215686274509804),\n",
       " (0.9803921568627451, 0.8156862745098039, 0.0),\n",
       " (1.0, 0.43137254901960786, 0.611764705882353),\n",
       " (1.0, 0.43137254901960786, 0.611764705882353),\n",
       " (1.0, 0.8941176470588236, 0.4196078431372549)]"
      ],
      "text/html": "<svg  width=\"1595\" height=\"55\"><rect x=\"0\" y=\"0\" width=\"55\" height=\"55\" style=\"fill:#18c1c4;stroke-width:2;stroke:rgb(255,255,255)\"/><rect x=\"55\" y=\"0\" width=\"55\" height=\"55\" style=\"fill:#18c1c4;stroke-width:2;stroke:rgb(255,255,255)\"/><rect x=\"110\" y=\"0\" width=\"55\" height=\"55\" style=\"fill:#18c1c4;stroke-width:2;stroke:rgb(255,255,255)\"/><rect x=\"165\" y=\"0\" width=\"55\" height=\"55\" style=\"fill:#222244;stroke-width:2;stroke:rgb(255,255,255)\"/><rect x=\"220\" y=\"0\" width=\"55\" height=\"55\" style=\"fill:#252549;stroke-width:2;stroke:rgb(255,255,255)\"/><rect x=\"275\" y=\"0\" width=\"55\" height=\"55\" style=\"fill:#2d105f;stroke-width:2;stroke:rgb(255,255,255)\"/><rect x=\"330\" y=\"0\" width=\"55\" height=\"55\" style=\"fill:#31108c;stroke-width:2;stroke:rgb(255,255,255)\"/><rect x=\"385\" y=\"0\" width=\"55\" height=\"55\" style=\"fill:#341e83;stroke-width:2;stroke:rgb(255,255,255)\"/><rect x=\"440\" y=\"0\" width=\"55\" height=\"55\" style=\"fill:#575492;stroke-width:2;stroke:rgb(255,255,255)\"/><rect x=\"495\" y=\"0\" width=\"55\" height=\"55\" style=\"fill:#6943ff;stroke-width:2;stroke:rgb(255,255,255)\"/><rect x=\"550\" y=\"0\" width=\"55\" height=\"55\" style=\"fill:#789ef8;stroke-width:2;stroke:rgb(255,255,255)\"/><rect x=\"605\" y=\"0\" width=\"55\" height=\"55\" style=\"fill:#7e46df;stroke-width:2;stroke:rgb(255,255,255)\"/><rect x=\"660\" y=\"0\" width=\"55\" height=\"55\" style=\"fill:#863bff;stroke-width:2;stroke:rgb(255,255,255)\"/><rect x=\"715\" y=\"0\" width=\"55\" height=\"55\" style=\"fill:#863bff;stroke-width:2;stroke:rgb(255,255,255)\"/><rect x=\"770\" y=\"0\" width=\"55\" height=\"55\" style=\"fill:#a599e9;stroke-width:2;stroke:rgb(255,255,255)\"/><rect x=\"825\" y=\"0\" width=\"55\" height=\"55\" style=\"fill:#a599e9;stroke-width:2;stroke:rgb(255,255,255)\"/><rect x=\"880\" y=\"0\" width=\"55\" height=\"55\" style=\"fill:#a599e9;stroke-width:2;stroke:rgb(255,255,255)\"/><rect x=\"935\" y=\"0\" width=\"55\" height=\"55\" style=\"fill:#a599e9;stroke-width:2;stroke:rgb(255,255,255)\"/><rect x=\"990\" y=\"0\" width=\"55\" height=\"55\" style=\"fill:#ad70fc;stroke-width:2;stroke:rgb(255,255,255)\"/><rect x=\"1045\" y=\"0\" width=\"55\" height=\"55\" style=\"fill:#ffffff;stroke-width:2;stroke:rgb(255,255,255)\"/><rect x=\"1100\" y=\"0\" width=\"55\" height=\"55\" style=\"fill:#ffffff;stroke-width:2;stroke:rgb(255,255,255)\"/><rect x=\"1155\" y=\"0\" width=\"55\" height=\"55\" style=\"fill:#a599e9;stroke-width:2;stroke:rgb(255,255,255)\"/><rect x=\"1210\" y=\"0\" width=\"55\" height=\"55\" style=\"fill:#a599e9;stroke-width:2;stroke:rgb(255,255,255)\"/><rect x=\"1265\" y=\"0\" width=\"55\" height=\"55\" style=\"fill:#e999aa;stroke-width:2;stroke:rgb(255,255,255)\"/><rect x=\"1320\" y=\"0\" width=\"55\" height=\"55\" style=\"fill:#f28d52;stroke-width:2;stroke:rgb(255,255,255)\"/><rect x=\"1375\" y=\"0\" width=\"55\" height=\"55\" style=\"fill:#fad000;stroke-width:2;stroke:rgb(255,255,255)\"/><rect x=\"1430\" y=\"0\" width=\"55\" height=\"55\" style=\"fill:#ff6e9c;stroke-width:2;stroke:rgb(255,255,255)\"/><rect x=\"1485\" y=\"0\" width=\"55\" height=\"55\" style=\"fill:#ff6e9c;stroke-width:2;stroke:rgb(255,255,255)\"/><rect x=\"1540\" y=\"0\" width=\"55\" height=\"55\" style=\"fill:#ffe46b;stroke-width:2;stroke:rgb(255,255,255)\"/></svg>"
     },
     "metadata": {},
     "execution_count": 12
    }
   ],
   "source": [
    "sns.color_palette()"
   ]
  },
  {
   "cell_type": "code",
   "execution_count": 13,
   "metadata": {},
   "outputs": [],
   "source": [
    "solid_json = {v: k for v,k in enumerate(solid)}\n",
    "trans_json = {v: k for v,k in enumerate(transparent)}\n",
    "\n",
    "with open('solid.json', 'w') as out:\n",
    "    json.dump(solid_json, out)\n",
    "with open('transparent.json', 'w') as out:\n",
    "    json.dump(trans_json, out)"
   ]
  },
  {
   "cell_type": "code",
   "execution_count": 14,
   "metadata": {},
   "outputs": [],
   "source": [
    "def get_color_cycle():\n",
    "    cycler = mpl.rcParams['axes.prop_cycle']\n",
    "    return cycler.by_key()['color'] if 'color' in cycler.keys else [\".15\"]"
   ]
  },
  {
   "cell_type": "code",
   "execution_count": 47,
   "metadata": {},
   "outputs": [],
   "source": [
    "class _ColorPalette(list):\n",
    "    \"\"\"Set the color palette in a with statement, otherwise be a list.\"\"\"\n",
    "    def __enter__(self):\n",
    "        \"\"\"Open the context.\"\"\"\n",
    "        from .rcmod import set_palette\n",
    "        self._orig_palette = color_palette()\n",
    "        set_palette(self)\n",
    "        return self\n",
    "\n",
    "    def as_hex(self):\n",
    "        \"\"\"Return a color palette with hex codes instead of RGB values.\"\"\"\n",
    "        hex = [mpl.colors.rgb2hex(rgb) for rgb in self]\n",
    "        return _ColorPalette(hex)\n",
    "\n",
    "    def _repr_html_(self):\n",
    "        \"\"\"Rich display of the color palette in an HTML frontend.\"\"\"\n",
    "        s = 60\n",
    "        n = len(self)\n",
    "        text_size = 12\n",
    "        html = f'<svg  width=\"{n * s}\" height=\"{s+text_size}\">'\n",
    "        for i, c in enumerate(self.as_hex()):\n",
    "            html += (\n",
    "                f'<rect x=\"{i * s}\" y=\"0\" width=\"{s}\" height=\"{s}\" style=\"fill:{c};'\n",
    "                f'stroke-width:3;stroke:rgb(255,255,255)\"/>'\n",
    "                f'<text x=\"{i * s}\" y=\"{s+text_size}\" font-family=\"Helvetica\" font-size=\"{text_size}\" fill=\"white\"> {c} </text>'\n",
    "            )\n",
    "        html += '</svg>'\n",
    "        with open('solid_palette.svg', 'w') as out:\n",
    "                out.write(html)\n",
    "        return html"
   ]
  },
  {
   "cell_type": "code",
   "execution_count": 48,
   "metadata": {},
   "outputs": [],
   "source": [
    "def construct_palette(name):\n",
    "    solid_palette = sns.set_palette(name)\n",
    "    palette = get_color_cycle()\n",
    "    pal_cycle = cycle(palette)\n",
    "    palette = [next(pal_cycle) for _ in range(len(palette))]\n",
    "\n",
    "    return _ColorPalette(palette)"
   ]
  },
  {
   "cell_type": "code",
   "execution_count": 49,
   "metadata": {},
   "outputs": [
    {
     "output_type": "execute_result",
     "data": {
      "text/plain": [
       "[(0.0, 0.0, 0.0),\n",
       " (0.00392156862745098, 0.043137254901960784, 0.0784313725490196),\n",
       " (0.07450980392156863, 0.047058823529411764, 0.1607843137254902),\n",
       " (0.08627450980392157, 0.08627450980392157, 0.2),\n",
       " (0.09411764705882353, 0.06274509803921569, 0.21176470588235294),\n",
       " (0.09411764705882353, 0.7529411764705882, 0.7686274509803922),\n",
       " (0.09411764705882353, 0.7568627450980392, 0.7686274509803922),\n",
       " (0.10980392156862745, 0.10196078431372549, 0.23137254901960785),\n",
       " (0.11764705882352941, 0.10980392156862745, 0.24705882352941178),\n",
       " (0.11764705882352941, 0.11764705882352941, 0.24705882352941178),\n",
       " (0.12156862745098039, 0.12156862745098039, 0.2549019607843137),\n",
       " (0.12156862745098039, 0.0784313725490196, 0.27058823529411763),\n",
       " (0.12549019607843137, 0.10196078431372549, 0.2196078431372549),\n",
       " (0.12941176470588237, 0.08235294117647059, 0.2784313725490196),\n",
       " (0.13333333333333333, 0.13333333333333333, 0.26666666666666666),\n",
       " (0.1450980392156863, 0.09803921568627451, 0.32941176470588235),\n",
       " (0.1450980392156863, 0.1450980392156863, 0.28627450980392155),\n",
       " (0.15294117647058825, 0.14901960784313725, 0.30196078431372547),\n",
       " (0.16470588235294117, 0.10588235294117647, 0.3607843137254902),\n",
       " (0.17647058823529413, 0.16862745098039217, 0.3333333333333333),\n",
       " (0.19215686274509805, 0.9019607843137255, 0.9019607843137255),\n",
       " (0.25098039215686274, 0.23529411764705882, 0.5254901960784314),\n",
       " (0.27058823529411763, 0.9607843137254902, 0.8117647058823529),\n",
       " (0.2823529411764706, 0.30980392156862746, 0.49019607843137253),\n",
       " (0.28627450980392155, 0.27450980392156865, 0.5215686274509804),\n",
       " (0.34901960784313724, 0.35294117647058826, 0.5411764705882353),\n",
       " (0.3607843137254902, 0.3607843137254902, 0.3803921568627451),\n",
       " (0.36470588235294116, 0.21568627450980393, 0.9411764705882353),\n",
       " (0.3607843137254902, 0.6549019607843137, 0.8941176470588236),\n",
       " (0.4, 0.9137254901960784, 0.9254901960784314),\n",
       " (0.42745098039215684, 0.9686274509803922, 0.8509803921568627),\n",
       " (0.47058823529411764, 0.6196078431372549, 0.9725490196078431),\n",
       " (0.4745098039215686, 0.596078431372549, 0.9490196078431372),\n",
       " (0.47843137254901963, 0.4627450980392157, 0.7607843137254902),\n",
       " (0.49019607843137253, 0.4, 0.7294117647058823),\n",
       " (0.49411764705882355, 0.47843137254901963, 0.6666666666666666),\n",
       " (0.49411764705882355, 0.6549019607843137, 0.9529411764705882),\n",
       " (0.49019607843137253, 0.4745098039215686, 0.8196078431372549),\n",
       " (0.49411764705882355, 0.8862745098039215, 0.9529411764705882),\n",
       " (0.49411764705882355, 0.9529411764705882, 0.792156862745098),\n",
       " (0.5019607843137255, 0.9882352941176471, 1.0),\n",
       " (0.5098039215686274, 0.6666666666666666, 1.0),\n",
       " (0.5098039215686274, 0.6941176470588235, 1.0),\n",
       " (0.5098039215686274, 0.6941176470588235, 1.0),\n",
       " (0.5568627450980392, 0.6745098039215687, 0.8901960784313725),\n",
       " (0.5803921568627451, 0.5686274509803921, 0.807843137254902),\n",
       " (0.5843137254901961, 0.6745098039215687, 0.9450980392156862),\n",
       " (0.611764705882353, 0.9450980392156862, 0.9607843137254902),\n",
       " (0.6196078431372549, 1.0, 1.0),\n",
       " (0.6196078431372549, 0.3843137254901961, 1.0),\n",
       " (0.6470588235294118, 0.4235294117647059, 0.9607843137254902),\n",
       " (0.6470588235294118, 0.6, 0.9137254901960784),\n",
       " (0.6901960784313725, 0.47843137254901963, 0.9882352941176471),\n",
       " (0.7019607843137254, 0.3843137254901961, 1.0),\n",
       " (0.7058823529411765, 0.6784313725490196, 0.792156862745098),\n",
       " (0.7607843137254902, 0.9568627450980393, 0.8862745098039215),\n",
       " (0.7686274509803922, 0.6352941176470588, 0.9607843137254902),\n",
       " (0.807843137254902, 0.7725490196078432, 1.0),\n",
       " (0.8392156862745098, 0.8705882352941177, 0.9215686274509803),\n",
       " (0.9372549019607843, 0.9372549019607843, 0.9372549019607843),\n",
       " (0.9490196078431372, 0.3803921568627451, 0.5882352941176471),\n",
       " (0.9529411764705882, 0.792156862745098, 0.49411764705882355),\n",
       " (0.9686274509803922, 0.9686274509803922, 0.9686274509803922),\n",
       " (0.9803921568627451, 0.8156862745098039, 0.0),\n",
       " (0.9921568627450981, 0.11372549019607843, 0.3254901960784314),\n",
       " (0.996078431372549, 0.996078431372549, 1.0),\n",
       " (1.0, 0.43137254901960786, 0.611764705882353),\n",
       " (1.0, 0.43137254901960786, 0.611764705882353),\n",
       " (1.0, 0.5882352941176471, 0.7176470588235294),\n",
       " (1.0, 0.8941176470588236, 0.4196078431372549),\n",
       " (1.0, 1.0, 1.0),\n",
       " (0.6313725490196078, 0.9686274509803922, 0.9725490196078431),\n",
       " (0.6470588235294118, 0.4235294117647059, 0.9607843137254902),\n",
       " (0.6901960784313725, 0.47843137254901963, 0.9882352941176471),\n",
       " (0.7254901960784313, 0.5686274509803921, 0.9450980392156862),\n",
       " (0.7764705882352941, 0.8470588235294118, 0.9803921568627451),\n",
       " (0.7803921568627451, 0.5725490196078431, 0.9176470588235294),\n",
       " (0.8274509803921568, 0.25882352941176473, 0.24313725490196078),\n",
       " (0.8392156862745098, 0.8705882352941177, 0.9215686274509803),\n",
       " (0.8509803921568627, 0.9607843137254902, 0.8666666666666667),\n",
       " (0.9372549019607843, 0.9372549019607843, 0.9372549019607843),\n",
       " (0.9529411764705882, 0.5647058823529412, 0.49411764705882355),\n",
       " (0.9529411764705882, 0.792156862745098, 0.49411764705882355),\n",
       " (0.9607843137254902, 0.8196078431372549, 0.19215686274509805),\n",
       " (0.9686274509803922, 0.29411764705882354, 0.45098039215686275),\n",
       " (0.9725490196078431, 0.3686274509803922, 0.6235294117647059),\n",
       " (0.9882352941176471, 0.9019607843137255, 0.5294117647058824),\n",
       " (0.9921568627450981, 0.21568627450980393, 0.4666666666666667),\n",
       " (0.996078431372549, 0.996078431372549, 1.0),\n",
       " (1.0, 0.43137254901960786, 0.611764705882353),\n",
       " (1.0, 0.9294117647058824, 0.6196078431372549)]"
      ],
      "text/html": "<svg  width=\"5460\" height=\"72\"><rect x=\"0\" y=\"0\" width=\"60\" height=\"60\" style=\"fill:#000000;stroke-width:3;stroke:rgb(255,255,255)\"/><text x=\"0\" y=\"72\" font-family=\"Helvetica\" font-size=\"12\" fill=\"white\"> #000000 </text><rect x=\"60\" y=\"0\" width=\"60\" height=\"60\" style=\"fill:#010b14;stroke-width:3;stroke:rgb(255,255,255)\"/><text x=\"60\" y=\"72\" font-family=\"Helvetica\" font-size=\"12\" fill=\"white\"> #010b14 </text><rect x=\"120\" y=\"0\" width=\"60\" height=\"60\" style=\"fill:#130c29;stroke-width:3;stroke:rgb(255,255,255)\"/><text x=\"120\" y=\"72\" font-family=\"Helvetica\" font-size=\"12\" fill=\"white\"> #130c29 </text><rect x=\"180\" y=\"0\" width=\"60\" height=\"60\" style=\"fill:#161633;stroke-width:3;stroke:rgb(255,255,255)\"/><text x=\"180\" y=\"72\" font-family=\"Helvetica\" font-size=\"12\" fill=\"white\"> #161633 </text><rect x=\"240\" y=\"0\" width=\"60\" height=\"60\" style=\"fill:#181036;stroke-width:3;stroke:rgb(255,255,255)\"/><text x=\"240\" y=\"72\" font-family=\"Helvetica\" font-size=\"12\" fill=\"white\"> #181036 </text><rect x=\"300\" y=\"0\" width=\"60\" height=\"60\" style=\"fill:#18c0c4;stroke-width:3;stroke:rgb(255,255,255)\"/><text x=\"300\" y=\"72\" font-family=\"Helvetica\" font-size=\"12\" fill=\"white\"> #18c0c4 </text><rect x=\"360\" y=\"0\" width=\"60\" height=\"60\" style=\"fill:#18c1c4;stroke-width:3;stroke:rgb(255,255,255)\"/><text x=\"360\" y=\"72\" font-family=\"Helvetica\" font-size=\"12\" fill=\"white\"> #18c1c4 </text><rect x=\"420\" y=\"0\" width=\"60\" height=\"60\" style=\"fill:#1c1a3b;stroke-width:3;stroke:rgb(255,255,255)\"/><text x=\"420\" y=\"72\" font-family=\"Helvetica\" font-size=\"12\" fill=\"white\"> #1c1a3b </text><rect x=\"480\" y=\"0\" width=\"60\" height=\"60\" style=\"fill:#1e1c3f;stroke-width:3;stroke:rgb(255,255,255)\"/><text x=\"480\" y=\"72\" font-family=\"Helvetica\" font-size=\"12\" fill=\"white\"> #1e1c3f </text><rect x=\"540\" y=\"0\" width=\"60\" height=\"60\" style=\"fill:#1e1e3f;stroke-width:3;stroke:rgb(255,255,255)\"/><text x=\"540\" y=\"72\" font-family=\"Helvetica\" font-size=\"12\" fill=\"white\"> #1e1e3f </text><rect x=\"600\" y=\"0\" width=\"60\" height=\"60\" style=\"fill:#1f1f41;stroke-width:3;stroke:rgb(255,255,255)\"/><text x=\"600\" y=\"72\" font-family=\"Helvetica\" font-size=\"12\" fill=\"white\"> #1f1f41 </text><rect x=\"660\" y=\"0\" width=\"60\" height=\"60\" style=\"fill:#1f1445;stroke-width:3;stroke:rgb(255,255,255)\"/><text x=\"660\" y=\"72\" font-family=\"Helvetica\" font-size=\"12\" fill=\"white\"> #1f1445 </text><rect x=\"720\" y=\"0\" width=\"60\" height=\"60\" style=\"fill:#201a38;stroke-width:3;stroke:rgb(255,255,255)\"/><text x=\"720\" y=\"72\" font-family=\"Helvetica\" font-size=\"12\" fill=\"white\"> #201a38 </text><rect x=\"780\" y=\"0\" width=\"60\" height=\"60\" style=\"fill:#211547;stroke-width:3;stroke:rgb(255,255,255)\"/><text x=\"780\" y=\"72\" font-family=\"Helvetica\" font-size=\"12\" fill=\"white\"> #211547 </text><rect x=\"840\" y=\"0\" width=\"60\" height=\"60\" style=\"fill:#222244;stroke-width:3;stroke:rgb(255,255,255)\"/><text x=\"840\" y=\"72\" font-family=\"Helvetica\" font-size=\"12\" fill=\"white\"> #222244 </text><rect x=\"900\" y=\"0\" width=\"60\" height=\"60\" style=\"fill:#251954;stroke-width:3;stroke:rgb(255,255,255)\"/><text x=\"900\" y=\"72\" font-family=\"Helvetica\" font-size=\"12\" fill=\"white\"> #251954 </text><rect x=\"960\" y=\"0\" width=\"60\" height=\"60\" style=\"fill:#252549;stroke-width:3;stroke:rgb(255,255,255)\"/><text x=\"960\" y=\"72\" font-family=\"Helvetica\" font-size=\"12\" fill=\"white\"> #252549 </text><rect x=\"1020\" y=\"0\" width=\"60\" height=\"60\" style=\"fill:#27264d;stroke-width:3;stroke:rgb(255,255,255)\"/><text x=\"1020\" y=\"72\" font-family=\"Helvetica\" font-size=\"12\" fill=\"white\"> #27264d </text><rect x=\"1080\" y=\"0\" width=\"60\" height=\"60\" style=\"fill:#2a1b5c;stroke-width:3;stroke:rgb(255,255,255)\"/><text x=\"1080\" y=\"72\" font-family=\"Helvetica\" font-size=\"12\" fill=\"white\"> #2a1b5c </text><rect x=\"1140\" y=\"0\" width=\"60\" height=\"60\" style=\"fill:#2d2b55;stroke-width:3;stroke:rgb(255,255,255)\"/><text x=\"1140\" y=\"72\" font-family=\"Helvetica\" font-size=\"12\" fill=\"white\"> #2d2b55 </text><rect x=\"1200\" y=\"0\" width=\"60\" height=\"60\" style=\"fill:#31e6e6;stroke-width:3;stroke:rgb(255,255,255)\"/><text x=\"1200\" y=\"72\" font-family=\"Helvetica\" font-size=\"12\" fill=\"white\"> #31e6e6 </text><rect x=\"1260\" y=\"0\" width=\"60\" height=\"60\" style=\"fill:#403c86;stroke-width:3;stroke:rgb(255,255,255)\"/><text x=\"1260\" y=\"72\" font-family=\"Helvetica\" font-size=\"12\" fill=\"white\"> #403c86 </text><rect x=\"1320\" y=\"0\" width=\"60\" height=\"60\" style=\"fill:#45f5cf;stroke-width:3;stroke:rgb(255,255,255)\"/><text x=\"1320\" y=\"72\" font-family=\"Helvetica\" font-size=\"12\" fill=\"white\"> #45f5cf </text><rect x=\"1380\" y=\"0\" width=\"60\" height=\"60\" style=\"fill:#484f7d;stroke-width:3;stroke:rgb(255,255,255)\"/><text x=\"1380\" y=\"72\" font-family=\"Helvetica\" font-size=\"12\" fill=\"white\"> #484f7d </text><rect x=\"1440\" y=\"0\" width=\"60\" height=\"60\" style=\"fill:#494685;stroke-width:3;stroke:rgb(255,255,255)\"/><text x=\"1440\" y=\"72\" font-family=\"Helvetica\" font-size=\"12\" fill=\"white\"> #494685 </text><rect x=\"1500\" y=\"0\" width=\"60\" height=\"60\" style=\"fill:#595a8a;stroke-width:3;stroke:rgb(255,255,255)\"/><text x=\"1500\" y=\"72\" font-family=\"Helvetica\" font-size=\"12\" fill=\"white\"> #595a8a </text><rect x=\"1560\" y=\"0\" width=\"60\" height=\"60\" style=\"fill:#5c5c61;stroke-width:3;stroke:rgb(255,255,255)\"/><text x=\"1560\" y=\"72\" font-family=\"Helvetica\" font-size=\"12\" fill=\"white\"> #5c5c61 </text><rect x=\"1620\" y=\"0\" width=\"60\" height=\"60\" style=\"fill:#5d37f0;stroke-width:3;stroke:rgb(255,255,255)\"/><text x=\"1620\" y=\"72\" font-family=\"Helvetica\" font-size=\"12\" fill=\"white\"> #5d37f0 </text><rect x=\"1680\" y=\"0\" width=\"60\" height=\"60\" style=\"fill:#5ca7e4;stroke-width:3;stroke:rgb(255,255,255)\"/><text x=\"1680\" y=\"72\" font-family=\"Helvetica\" font-size=\"12\" fill=\"white\"> #5ca7e4 </text><rect x=\"1740\" y=\"0\" width=\"60\" height=\"60\" style=\"fill:#66e9ec;stroke-width:3;stroke:rgb(255,255,255)\"/><text x=\"1740\" y=\"72\" font-family=\"Helvetica\" font-size=\"12\" fill=\"white\"> #66e9ec </text><rect x=\"1800\" y=\"0\" width=\"60\" height=\"60\" style=\"fill:#6df7d9;stroke-width:3;stroke:rgb(255,255,255)\"/><text x=\"1800\" y=\"72\" font-family=\"Helvetica\" font-size=\"12\" fill=\"white\"> #6df7d9 </text><rect x=\"1860\" y=\"0\" width=\"60\" height=\"60\" style=\"fill:#789ef8;stroke-width:3;stroke:rgb(255,255,255)\"/><text x=\"1860\" y=\"72\" font-family=\"Helvetica\" font-size=\"12\" fill=\"white\"> #789ef8 </text><rect x=\"1920\" y=\"0\" width=\"60\" height=\"60\" style=\"fill:#7998f2;stroke-width:3;stroke:rgb(255,255,255)\"/><text x=\"1920\" y=\"72\" font-family=\"Helvetica\" font-size=\"12\" fill=\"white\"> #7998f2 </text><rect x=\"1980\" y=\"0\" width=\"60\" height=\"60\" style=\"fill:#7a76c2;stroke-width:3;stroke:rgb(255,255,255)\"/><text x=\"1980\" y=\"72\" font-family=\"Helvetica\" font-size=\"12\" fill=\"white\"> #7a76c2 </text><rect x=\"2040\" y=\"0\" width=\"60\" height=\"60\" style=\"fill:#7d66ba;stroke-width:3;stroke:rgb(255,255,255)\"/><text x=\"2040\" y=\"72\" font-family=\"Helvetica\" font-size=\"12\" fill=\"white\"> #7d66ba </text><rect x=\"2100\" y=\"0\" width=\"60\" height=\"60\" style=\"fill:#7e7aaa;stroke-width:3;stroke:rgb(255,255,255)\"/><text x=\"2100\" y=\"72\" font-family=\"Helvetica\" font-size=\"12\" fill=\"white\"> #7e7aaa </text><rect x=\"2160\" y=\"0\" width=\"60\" height=\"60\" style=\"fill:#7ea7f3;stroke-width:3;stroke:rgb(255,255,255)\"/><text x=\"2160\" y=\"72\" font-family=\"Helvetica\" font-size=\"12\" fill=\"white\"> #7ea7f3 </text><rect x=\"2220\" y=\"0\" width=\"60\" height=\"60\" style=\"fill:#7d79d1;stroke-width:3;stroke:rgb(255,255,255)\"/><text x=\"2220\" y=\"72\" font-family=\"Helvetica\" font-size=\"12\" fill=\"white\"> #7d79d1 </text><rect x=\"2280\" y=\"0\" width=\"60\" height=\"60\" style=\"fill:#7ee2f3;stroke-width:3;stroke:rgb(255,255,255)\"/><text x=\"2280\" y=\"72\" font-family=\"Helvetica\" font-size=\"12\" fill=\"white\"> #7ee2f3 </text><rect x=\"2340\" y=\"0\" width=\"60\" height=\"60\" style=\"fill:#7ef3ca;stroke-width:3;stroke:rgb(255,255,255)\"/><text x=\"2340\" y=\"72\" font-family=\"Helvetica\" font-size=\"12\" fill=\"white\"> #7ef3ca </text><rect x=\"2400\" y=\"0\" width=\"60\" height=\"60\" style=\"fill:#80fcff;stroke-width:3;stroke:rgb(255,255,255)\"/><text x=\"2400\" y=\"72\" font-family=\"Helvetica\" font-size=\"12\" fill=\"white\"> #80fcff </text><rect x=\"2460\" y=\"0\" width=\"60\" height=\"60\" style=\"fill:#82aaff;stroke-width:3;stroke:rgb(255,255,255)\"/><text x=\"2460\" y=\"72\" font-family=\"Helvetica\" font-size=\"12\" fill=\"white\"> #82aaff </text><rect x=\"2520\" y=\"0\" width=\"60\" height=\"60\" style=\"fill:#82b1ff;stroke-width:3;stroke:rgb(255,255,255)\"/><text x=\"2520\" y=\"72\" font-family=\"Helvetica\" font-size=\"12\" fill=\"white\"> #82b1ff </text><rect x=\"2580\" y=\"0\" width=\"60\" height=\"60\" style=\"fill:#82b1ff;stroke-width:3;stroke:rgb(255,255,255)\"/><text x=\"2580\" y=\"72\" font-family=\"Helvetica\" font-size=\"12\" fill=\"white\"> #82b1ff </text><rect x=\"2640\" y=\"0\" width=\"60\" height=\"60\" style=\"fill:#8eace3;stroke-width:3;stroke:rgb(255,255,255)\"/><text x=\"2640\" y=\"72\" font-family=\"Helvetica\" font-size=\"12\" fill=\"white\"> #8eace3 </text><rect x=\"2700\" y=\"0\" width=\"60\" height=\"60\" style=\"fill:#9491ce;stroke-width:3;stroke:rgb(255,255,255)\"/><text x=\"2700\" y=\"72\" font-family=\"Helvetica\" font-size=\"12\" fill=\"white\"> #9491ce </text><rect x=\"2760\" y=\"0\" width=\"60\" height=\"60\" style=\"fill:#95acf1;stroke-width:3;stroke:rgb(255,255,255)\"/><text x=\"2760\" y=\"72\" font-family=\"Helvetica\" font-size=\"12\" fill=\"white\"> #95acf1 </text><rect x=\"2820\" y=\"0\" width=\"60\" height=\"60\" style=\"fill:#9cf1f5;stroke-width:3;stroke:rgb(255,255,255)\"/><text x=\"2820\" y=\"72\" font-family=\"Helvetica\" font-size=\"12\" fill=\"white\"> #9cf1f5 </text><rect x=\"2880\" y=\"0\" width=\"60\" height=\"60\" style=\"fill:#9effff;stroke-width:3;stroke:rgb(255,255,255)\"/><text x=\"2880\" y=\"72\" font-family=\"Helvetica\" font-size=\"12\" fill=\"white\"> #9effff </text><rect x=\"2940\" y=\"0\" width=\"60\" height=\"60\" style=\"fill:#9e62ff;stroke-width:3;stroke:rgb(255,255,255)\"/><text x=\"2940\" y=\"72\" font-family=\"Helvetica\" font-size=\"12\" fill=\"white\"> #9e62ff </text><rect x=\"3000\" y=\"0\" width=\"60\" height=\"60\" style=\"fill:#a56cf5;stroke-width:3;stroke:rgb(255,255,255)\"/><text x=\"3000\" y=\"72\" font-family=\"Helvetica\" font-size=\"12\" fill=\"white\"> #a56cf5 </text><rect x=\"3060\" y=\"0\" width=\"60\" height=\"60\" style=\"fill:#a599e9;stroke-width:3;stroke:rgb(255,255,255)\"/><text x=\"3060\" y=\"72\" font-family=\"Helvetica\" font-size=\"12\" fill=\"white\"> #a599e9 </text><rect x=\"3120\" y=\"0\" width=\"60\" height=\"60\" style=\"fill:#b07afc;stroke-width:3;stroke:rgb(255,255,255)\"/><text x=\"3120\" y=\"72\" font-family=\"Helvetica\" font-size=\"12\" fill=\"white\"> #b07afc </text><rect x=\"3180\" y=\"0\" width=\"60\" height=\"60\" style=\"fill:#b362ff;stroke-width:3;stroke:rgb(255,255,255)\"/><text x=\"3180\" y=\"72\" font-family=\"Helvetica\" font-size=\"12\" fill=\"white\"> #b362ff </text><rect x=\"3240\" y=\"0\" width=\"60\" height=\"60\" style=\"fill:#b4adca;stroke-width:3;stroke:rgb(255,255,255)\"/><text x=\"3240\" y=\"72\" font-family=\"Helvetica\" font-size=\"12\" fill=\"white\"> #b4adca </text><rect x=\"3300\" y=\"0\" width=\"60\" height=\"60\" style=\"fill:#c2f4e2;stroke-width:3;stroke:rgb(255,255,255)\"/><text x=\"3300\" y=\"72\" font-family=\"Helvetica\" font-size=\"12\" fill=\"white\"> #c2f4e2 </text><rect x=\"3360\" y=\"0\" width=\"60\" height=\"60\" style=\"fill:#c4a2f5;stroke-width:3;stroke:rgb(255,255,255)\"/><text x=\"3360\" y=\"72\" font-family=\"Helvetica\" font-size=\"12\" fill=\"white\"> #c4a2f5 </text><rect x=\"3420\" y=\"0\" width=\"60\" height=\"60\" style=\"fill:#cec5ff;stroke-width:3;stroke:rgb(255,255,255)\"/><text x=\"3420\" y=\"72\" font-family=\"Helvetica\" font-size=\"12\" fill=\"white\"> #cec5ff </text><rect x=\"3480\" y=\"0\" width=\"60\" height=\"60\" style=\"fill:#d6deeb;stroke-width:3;stroke:rgb(255,255,255)\"/><text x=\"3480\" y=\"72\" font-family=\"Helvetica\" font-size=\"12\" fill=\"white\"> #d6deeb </text><rect x=\"3540\" y=\"0\" width=\"60\" height=\"60\" style=\"fill:#efefef;stroke-width:3;stroke:rgb(255,255,255)\"/><text x=\"3540\" y=\"72\" font-family=\"Helvetica\" font-size=\"12\" fill=\"white\"> #efefef </text><rect x=\"3600\" y=\"0\" width=\"60\" height=\"60\" style=\"fill:#f26196;stroke-width:3;stroke:rgb(255,255,255)\"/><text x=\"3600\" y=\"72\" font-family=\"Helvetica\" font-size=\"12\" fill=\"white\"> #f26196 </text><rect x=\"3660\" y=\"0\" width=\"60\" height=\"60\" style=\"fill:#f3ca7e;stroke-width:3;stroke:rgb(255,255,255)\"/><text x=\"3660\" y=\"72\" font-family=\"Helvetica\" font-size=\"12\" fill=\"white\"> #f3ca7e </text><rect x=\"3720\" y=\"0\" width=\"60\" height=\"60\" style=\"fill:#f7f7f7;stroke-width:3;stroke:rgb(255,255,255)\"/><text x=\"3720\" y=\"72\" font-family=\"Helvetica\" font-size=\"12\" fill=\"white\"> #f7f7f7 </text><rect x=\"3780\" y=\"0\" width=\"60\" height=\"60\" style=\"fill:#fad000;stroke-width:3;stroke:rgb(255,255,255)\"/><text x=\"3780\" y=\"72\" font-family=\"Helvetica\" font-size=\"12\" fill=\"white\"> #fad000 </text><rect x=\"3840\" y=\"0\" width=\"60\" height=\"60\" style=\"fill:#fd1d53;stroke-width:3;stroke:rgb(255,255,255)\"/><text x=\"3840\" y=\"72\" font-family=\"Helvetica\" font-size=\"12\" fill=\"white\"> #fd1d53 </text><rect x=\"3900\" y=\"0\" width=\"60\" height=\"60\" style=\"fill:#fefeff;stroke-width:3;stroke:rgb(255,255,255)\"/><text x=\"3900\" y=\"72\" font-family=\"Helvetica\" font-size=\"12\" fill=\"white\"> #fefeff </text><rect x=\"3960\" y=\"0\" width=\"60\" height=\"60\" style=\"fill:#ff6e9c;stroke-width:3;stroke:rgb(255,255,255)\"/><text x=\"3960\" y=\"72\" font-family=\"Helvetica\" font-size=\"12\" fill=\"white\"> #ff6e9c </text><rect x=\"4020\" y=\"0\" width=\"60\" height=\"60\" style=\"fill:#ff6e9c;stroke-width:3;stroke:rgb(255,255,255)\"/><text x=\"4020\" y=\"72\" font-family=\"Helvetica\" font-size=\"12\" fill=\"white\"> #ff6e9c </text><rect x=\"4080\" y=\"0\" width=\"60\" height=\"60\" style=\"fill:#ff96b7;stroke-width:3;stroke:rgb(255,255,255)\"/><text x=\"4080\" y=\"72\" font-family=\"Helvetica\" font-size=\"12\" fill=\"white\"> #ff96b7 </text><rect x=\"4140\" y=\"0\" width=\"60\" height=\"60\" style=\"fill:#ffe46b;stroke-width:3;stroke:rgb(255,255,255)\"/><text x=\"4140\" y=\"72\" font-family=\"Helvetica\" font-size=\"12\" fill=\"white\"> #ffe46b </text><rect x=\"4200\" y=\"0\" width=\"60\" height=\"60\" style=\"fill:#ffffff;stroke-width:3;stroke:rgb(255,255,255)\"/><text x=\"4200\" y=\"72\" font-family=\"Helvetica\" font-size=\"12\" fill=\"white\"> #ffffff </text><rect x=\"4260\" y=\"0\" width=\"60\" height=\"60\" style=\"fill:#a1f7f8;stroke-width:3;stroke:rgb(255,255,255)\"/><text x=\"4260\" y=\"72\" font-family=\"Helvetica\" font-size=\"12\" fill=\"white\"> #a1f7f8 </text><rect x=\"4320\" y=\"0\" width=\"60\" height=\"60\" style=\"fill:#a56cf5;stroke-width:3;stroke:rgb(255,255,255)\"/><text x=\"4320\" y=\"72\" font-family=\"Helvetica\" font-size=\"12\" fill=\"white\"> #a56cf5 </text><rect x=\"4380\" y=\"0\" width=\"60\" height=\"60\" style=\"fill:#b07afc;stroke-width:3;stroke:rgb(255,255,255)\"/><text x=\"4380\" y=\"72\" font-family=\"Helvetica\" font-size=\"12\" fill=\"white\"> #b07afc </text><rect x=\"4440\" y=\"0\" width=\"60\" height=\"60\" style=\"fill:#b991f1;stroke-width:3;stroke:rgb(255,255,255)\"/><text x=\"4440\" y=\"72\" font-family=\"Helvetica\" font-size=\"12\" fill=\"white\"> #b991f1 </text><rect x=\"4500\" y=\"0\" width=\"60\" height=\"60\" style=\"fill:#c6d8fa;stroke-width:3;stroke:rgb(255,255,255)\"/><text x=\"4500\" y=\"72\" font-family=\"Helvetica\" font-size=\"12\" fill=\"white\"> #c6d8fa </text><rect x=\"4560\" y=\"0\" width=\"60\" height=\"60\" style=\"fill:#c792ea;stroke-width:3;stroke:rgb(255,255,255)\"/><text x=\"4560\" y=\"72\" font-family=\"Helvetica\" font-size=\"12\" fill=\"white\"> #c792ea </text><rect x=\"4620\" y=\"0\" width=\"60\" height=\"60\" style=\"fill:#d3423e;stroke-width:3;stroke:rgb(255,255,255)\"/><text x=\"4620\" y=\"72\" font-family=\"Helvetica\" font-size=\"12\" fill=\"white\"> #d3423e </text><rect x=\"4680\" y=\"0\" width=\"60\" height=\"60\" style=\"fill:#d6deeb;stroke-width:3;stroke:rgb(255,255,255)\"/><text x=\"4680\" y=\"72\" font-family=\"Helvetica\" font-size=\"12\" fill=\"white\"> #d6deeb </text><rect x=\"4740\" y=\"0\" width=\"60\" height=\"60\" style=\"fill:#d9f5dd;stroke-width:3;stroke:rgb(255,255,255)\"/><text x=\"4740\" y=\"72\" font-family=\"Helvetica\" font-size=\"12\" fill=\"white\"> #d9f5dd </text><rect x=\"4800\" y=\"0\" width=\"60\" height=\"60\" style=\"fill:#efefef;stroke-width:3;stroke:rgb(255,255,255)\"/><text x=\"4800\" y=\"72\" font-family=\"Helvetica\" font-size=\"12\" fill=\"white\"> #efefef </text><rect x=\"4860\" y=\"0\" width=\"60\" height=\"60\" style=\"fill:#f3907e;stroke-width:3;stroke:rgb(255,255,255)\"/><text x=\"4860\" y=\"72\" font-family=\"Helvetica\" font-size=\"12\" fill=\"white\"> #f3907e </text><rect x=\"4920\" y=\"0\" width=\"60\" height=\"60\" style=\"fill:#f3ca7e;stroke-width:3;stroke:rgb(255,255,255)\"/><text x=\"4920\" y=\"72\" font-family=\"Helvetica\" font-size=\"12\" fill=\"white\"> #f3ca7e </text><rect x=\"4980\" y=\"0\" width=\"60\" height=\"60\" style=\"fill:#f5d131;stroke-width:3;stroke:rgb(255,255,255)\"/><text x=\"4980\" y=\"72\" font-family=\"Helvetica\" font-size=\"12\" fill=\"white\"> #f5d131 </text><rect x=\"5040\" y=\"0\" width=\"60\" height=\"60\" style=\"fill:#f74b73;stroke-width:3;stroke:rgb(255,255,255)\"/><text x=\"5040\" y=\"72\" font-family=\"Helvetica\" font-size=\"12\" fill=\"white\"> #f74b73 </text><rect x=\"5100\" y=\"0\" width=\"60\" height=\"60\" style=\"fill:#f85e9f;stroke-width:3;stroke:rgb(255,255,255)\"/><text x=\"5100\" y=\"72\" font-family=\"Helvetica\" font-size=\"12\" fill=\"white\"> #f85e9f </text><rect x=\"5160\" y=\"0\" width=\"60\" height=\"60\" style=\"fill:#fce687;stroke-width:3;stroke:rgb(255,255,255)\"/><text x=\"5160\" y=\"72\" font-family=\"Helvetica\" font-size=\"12\" fill=\"white\"> #fce687 </text><rect x=\"5220\" y=\"0\" width=\"60\" height=\"60\" style=\"fill:#fd3777;stroke-width:3;stroke:rgb(255,255,255)\"/><text x=\"5220\" y=\"72\" font-family=\"Helvetica\" font-size=\"12\" fill=\"white\"> #fd3777 </text><rect x=\"5280\" y=\"0\" width=\"60\" height=\"60\" style=\"fill:#fefeff;stroke-width:3;stroke:rgb(255,255,255)\"/><text x=\"5280\" y=\"72\" font-family=\"Helvetica\" font-size=\"12\" fill=\"white\"> #fefeff </text><rect x=\"5340\" y=\"0\" width=\"60\" height=\"60\" style=\"fill:#ff6e9c;stroke-width:3;stroke:rgb(255,255,255)\"/><text x=\"5340\" y=\"72\" font-family=\"Helvetica\" font-size=\"12\" fill=\"white\"> #ff6e9c </text><rect x=\"5400\" y=\"0\" width=\"60\" height=\"60\" style=\"fill:#ffed9e;stroke-width:3;stroke:rgb(255,255,255)\"/><text x=\"5400\" y=\"72\" font-family=\"Helvetica\" font-size=\"12\" fill=\"white\"> #ffed9e </text></svg>"
     },
     "metadata": {},
     "execution_count": 49
    }
   ],
   "source": [
    "construct_palette(solid)"
   ]
  },
  {
   "cell_type": "code",
   "execution_count": 19,
   "metadata": {},
   "outputs": [
    {
     "output_type": "execute_result",
     "data": {
      "text/plain": [
       "[(0.09411764705882353, 0.7568627450980392, 0.7686274509803922),\n",
       " (0.09411764705882353, 0.7568627450980392, 0.7686274509803922),\n",
       " (0.09411764705882353, 0.7568627450980392, 0.7686274509803922),\n",
       " (0.13333333333333333, 0.13333333333333333, 0.26666666666666666),\n",
       " (0.1450980392156863, 0.1450980392156863, 0.28627450980392155),\n",
       " (0.17647058823529413, 0.06274509803921569, 0.37254901960784315),\n",
       " (0.19215686274509805, 0.06274509803921569, 0.5490196078431373),\n",
       " (0.20392156862745098, 0.11764705882352941, 0.5137254901960784),\n",
       " (0.3411764705882353, 0.32941176470588235, 0.5725490196078431),\n",
       " (0.4117647058823529, 0.2627450980392157, 1.0),\n",
       " (0.47058823529411764, 0.6196078431372549, 0.9725490196078431),\n",
       " (0.49411764705882355, 0.27450980392156865, 0.8745098039215686),\n",
       " (0.5254901960784314, 0.23137254901960785, 1.0),\n",
       " (0.5254901960784314, 0.23137254901960785, 1.0),\n",
       " (0.6470588235294118, 0.6, 0.9137254901960784),\n",
       " (0.6470588235294118, 0.6, 0.9137254901960784),\n",
       " (0.6470588235294118, 0.6, 0.9137254901960784),\n",
       " (0.6470588235294118, 0.6, 0.9137254901960784),\n",
       " (0.6784313725490196, 0.4392156862745098, 0.9882352941176471),\n",
       " (1.0, 1.0, 1.0),\n",
       " (1.0, 1.0, 1.0),\n",
       " (0.6470588235294118, 0.6, 0.9137254901960784),\n",
       " (0.6470588235294118, 0.6, 0.9137254901960784),\n",
       " (0.9137254901960784, 0.6, 0.6666666666666666),\n",
       " (0.9490196078431372, 0.5529411764705883, 0.3215686274509804),\n",
       " (0.9803921568627451, 0.8156862745098039, 0.0),\n",
       " (1.0, 0.43137254901960786, 0.611764705882353),\n",
       " (1.0, 0.43137254901960786, 0.611764705882353),\n",
       " (1.0, 0.8941176470588236, 0.4196078431372549)]"
      ],
      "text/html": "<svg  width=\"1740\" height=\"72\"><rect x=\"0\" y=\"0\" width=\"60\" height=\"60\" style=\"fill:#18c1c4;stroke-width:3;stroke:rgb(255,255,255)\"/><text x=\"0\" y=\"72\" font-family=\"Helvetica\" font-size=\"12\" fill=\"white\"> #18c1c4 </text><rect x=\"60\" y=\"0\" width=\"60\" height=\"60\" style=\"fill:#18c1c4;stroke-width:3;stroke:rgb(255,255,255)\"/><text x=\"60\" y=\"72\" font-family=\"Helvetica\" font-size=\"12\" fill=\"white\"> #18c1c4 </text><rect x=\"120\" y=\"0\" width=\"60\" height=\"60\" style=\"fill:#18c1c4;stroke-width:3;stroke:rgb(255,255,255)\"/><text x=\"120\" y=\"72\" font-family=\"Helvetica\" font-size=\"12\" fill=\"white\"> #18c1c4 </text><rect x=\"180\" y=\"0\" width=\"60\" height=\"60\" style=\"fill:#222244;stroke-width:3;stroke:rgb(255,255,255)\"/><text x=\"180\" y=\"72\" font-family=\"Helvetica\" font-size=\"12\" fill=\"white\"> #222244 </text><rect x=\"240\" y=\"0\" width=\"60\" height=\"60\" style=\"fill:#252549;stroke-width:3;stroke:rgb(255,255,255)\"/><text x=\"240\" y=\"72\" font-family=\"Helvetica\" font-size=\"12\" fill=\"white\"> #252549 </text><rect x=\"300\" y=\"0\" width=\"60\" height=\"60\" style=\"fill:#2d105f;stroke-width:3;stroke:rgb(255,255,255)\"/><text x=\"300\" y=\"72\" font-family=\"Helvetica\" font-size=\"12\" fill=\"white\"> #2d105f </text><rect x=\"360\" y=\"0\" width=\"60\" height=\"60\" style=\"fill:#31108c;stroke-width:3;stroke:rgb(255,255,255)\"/><text x=\"360\" y=\"72\" font-family=\"Helvetica\" font-size=\"12\" fill=\"white\"> #31108c </text><rect x=\"420\" y=\"0\" width=\"60\" height=\"60\" style=\"fill:#341e83;stroke-width:3;stroke:rgb(255,255,255)\"/><text x=\"420\" y=\"72\" font-family=\"Helvetica\" font-size=\"12\" fill=\"white\"> #341e83 </text><rect x=\"480\" y=\"0\" width=\"60\" height=\"60\" style=\"fill:#575492;stroke-width:3;stroke:rgb(255,255,255)\"/><text x=\"480\" y=\"72\" font-family=\"Helvetica\" font-size=\"12\" fill=\"white\"> #575492 </text><rect x=\"540\" y=\"0\" width=\"60\" height=\"60\" style=\"fill:#6943ff;stroke-width:3;stroke:rgb(255,255,255)\"/><text x=\"540\" y=\"72\" font-family=\"Helvetica\" font-size=\"12\" fill=\"white\"> #6943ff </text><rect x=\"600\" y=\"0\" width=\"60\" height=\"60\" style=\"fill:#789ef8;stroke-width:3;stroke:rgb(255,255,255)\"/><text x=\"600\" y=\"72\" font-family=\"Helvetica\" font-size=\"12\" fill=\"white\"> #789ef8 </text><rect x=\"660\" y=\"0\" width=\"60\" height=\"60\" style=\"fill:#7e46df;stroke-width:3;stroke:rgb(255,255,255)\"/><text x=\"660\" y=\"72\" font-family=\"Helvetica\" font-size=\"12\" fill=\"white\"> #7e46df </text><rect x=\"720\" y=\"0\" width=\"60\" height=\"60\" style=\"fill:#863bff;stroke-width:3;stroke:rgb(255,255,255)\"/><text x=\"720\" y=\"72\" font-family=\"Helvetica\" font-size=\"12\" fill=\"white\"> #863bff </text><rect x=\"780\" y=\"0\" width=\"60\" height=\"60\" style=\"fill:#863bff;stroke-width:3;stroke:rgb(255,255,255)\"/><text x=\"780\" y=\"72\" font-family=\"Helvetica\" font-size=\"12\" fill=\"white\"> #863bff </text><rect x=\"840\" y=\"0\" width=\"60\" height=\"60\" style=\"fill:#a599e9;stroke-width:3;stroke:rgb(255,255,255)\"/><text x=\"840\" y=\"72\" font-family=\"Helvetica\" font-size=\"12\" fill=\"white\"> #a599e9 </text><rect x=\"900\" y=\"0\" width=\"60\" height=\"60\" style=\"fill:#a599e9;stroke-width:3;stroke:rgb(255,255,255)\"/><text x=\"900\" y=\"72\" font-family=\"Helvetica\" font-size=\"12\" fill=\"white\"> #a599e9 </text><rect x=\"960\" y=\"0\" width=\"60\" height=\"60\" style=\"fill:#a599e9;stroke-width:3;stroke:rgb(255,255,255)\"/><text x=\"960\" y=\"72\" font-family=\"Helvetica\" font-size=\"12\" fill=\"white\"> #a599e9 </text><rect x=\"1020\" y=\"0\" width=\"60\" height=\"60\" style=\"fill:#a599e9;stroke-width:3;stroke:rgb(255,255,255)\"/><text x=\"1020\" y=\"72\" font-family=\"Helvetica\" font-size=\"12\" fill=\"white\"> #a599e9 </text><rect x=\"1080\" y=\"0\" width=\"60\" height=\"60\" style=\"fill:#ad70fc;stroke-width:3;stroke:rgb(255,255,255)\"/><text x=\"1080\" y=\"72\" font-family=\"Helvetica\" font-size=\"12\" fill=\"white\"> #ad70fc </text><rect x=\"1140\" y=\"0\" width=\"60\" height=\"60\" style=\"fill:#ffffff;stroke-width:3;stroke:rgb(255,255,255)\"/><text x=\"1140\" y=\"72\" font-family=\"Helvetica\" font-size=\"12\" fill=\"white\"> #ffffff </text><rect x=\"1200\" y=\"0\" width=\"60\" height=\"60\" style=\"fill:#ffffff;stroke-width:3;stroke:rgb(255,255,255)\"/><text x=\"1200\" y=\"72\" font-family=\"Helvetica\" font-size=\"12\" fill=\"white\"> #ffffff </text><rect x=\"1260\" y=\"0\" width=\"60\" height=\"60\" style=\"fill:#a599e9;stroke-width:3;stroke:rgb(255,255,255)\"/><text x=\"1260\" y=\"72\" font-family=\"Helvetica\" font-size=\"12\" fill=\"white\"> #a599e9 </text><rect x=\"1320\" y=\"0\" width=\"60\" height=\"60\" style=\"fill:#a599e9;stroke-width:3;stroke:rgb(255,255,255)\"/><text x=\"1320\" y=\"72\" font-family=\"Helvetica\" font-size=\"12\" fill=\"white\"> #a599e9 </text><rect x=\"1380\" y=\"0\" width=\"60\" height=\"60\" style=\"fill:#e999aa;stroke-width:3;stroke:rgb(255,255,255)\"/><text x=\"1380\" y=\"72\" font-family=\"Helvetica\" font-size=\"12\" fill=\"white\"> #e999aa </text><rect x=\"1440\" y=\"0\" width=\"60\" height=\"60\" style=\"fill:#f28d52;stroke-width:3;stroke:rgb(255,255,255)\"/><text x=\"1440\" y=\"72\" font-family=\"Helvetica\" font-size=\"12\" fill=\"white\"> #f28d52 </text><rect x=\"1500\" y=\"0\" width=\"60\" height=\"60\" style=\"fill:#fad000;stroke-width:3;stroke:rgb(255,255,255)\"/><text x=\"1500\" y=\"72\" font-family=\"Helvetica\" font-size=\"12\" fill=\"white\"> #fad000 </text><rect x=\"1560\" y=\"0\" width=\"60\" height=\"60\" style=\"fill:#ff6e9c;stroke-width:3;stroke:rgb(255,255,255)\"/><text x=\"1560\" y=\"72\" font-family=\"Helvetica\" font-size=\"12\" fill=\"white\"> #ff6e9c </text><rect x=\"1620\" y=\"0\" width=\"60\" height=\"60\" style=\"fill:#ff6e9c;stroke-width:3;stroke:rgb(255,255,255)\"/><text x=\"1620\" y=\"72\" font-family=\"Helvetica\" font-size=\"12\" fill=\"white\"> #ff6e9c </text><rect x=\"1680\" y=\"0\" width=\"60\" height=\"60\" style=\"fill:#ffe46b;stroke-width:3;stroke:rgb(255,255,255)\"/><text x=\"1680\" y=\"72\" font-family=\"Helvetica\" font-size=\"12\" fill=\"white\"> #ffe46b </text></svg>"
     },
     "metadata": {},
     "execution_count": 19
    }
   ],
   "source": [
    "construct_palette(transparent)"
   ]
  },
  {
   "cell_type": "code",
   "execution_count": null,
   "metadata": {},
   "outputs": [],
   "source": []
  }
 ]
}